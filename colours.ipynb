{
 "cells": [
  {
   "cell_type": "markdown",
   "metadata": {},
   "source": [
    "# An investigation into possible colour choices that will not coincide under colour deficiency models\n",
    "\n",
    "The ZX-calculus uses red and green nodes, and the community has been resistant to change in these colour choices.\n",
    "Rather than try and change the colours of the calculus we aim to give standard shades of red and green,\n",
    "which do not clash under the following colour models:\n",
    "\n",
    "- Green-Blind/Deuteranopia\n",
    "- Red-Blind/Protanopia\n",
    "- Blue-Blind/Tritanopia\n",
    "- Monochromacy/Achromatopsia (greyscale)\n",
    "\n",
    "For the final result and instructions on how to implement these decisions in LaTeX see the bottom of this page."
   ]
  },
  {
   "cell_type": "markdown",
   "metadata": {},
   "source": [
    "## Method\n",
    "We will use the python library colorspacious (DOI:10.5281/zenodo.1214904) to perform the colour manipulation,\n",
    "and take advice on contrast from the W3 Standard (https://www.w3.org/TR/WCAG21/ .)\n",
    "Any given pair of colours will be assessed on the following criteria:\n",
    "\n",
    "- Contrast against black\n",
    "- DeltaE difference between the colours (CAM02-UCS)\n",
    "\n",
    "    \n",
    "These contrasts will be evaluated for each transformed pair of colours.\n",
    "The final candidates for the \"red\" and \"green\" will be found by starting with the web standard colours for those names,\n",
    "then altering the saturation and lightness (by hand) keeping the original hues. The W3 standard requires a contrast difference greater that 4.5, but no standard is given for DeltaE values. As such we have chosen the value 5 as our DeltaE tolerance, but note that this is arbitrary and judged \"good enough\" by eye."
   ]
  },
  {
   "cell_type": "code",
   "execution_count": 1,
   "metadata": {},
   "outputs": [],
   "source": [
    "from colorspacious import cspace_convert\n",
    "from colorspacious import cspace_converter\n",
    "from colorspacious import deltaE as cspace_deltaE\n",
    "from colour import Color\n",
    "import ipywidgets as widgets\n",
    "import math\n"
   ]
  },
  {
   "cell_type": "code",
   "execution_count": 2,
   "metadata": {},
   "outputs": [],
   "source": [
    "# Implement colour space conversions\n",
    "\n",
    "CVD_D_space = {\"name\": \"sRGB1+CVD\",\"cvd_type\": \"deuteranomaly\",\"severity\": 100}\n",
    "CVD_P_space = {\"name\": \"sRGB1+CVD\",\"cvd_type\": \"protanomaly\",\"severity\": 100}\n",
    "CVD_T_space = {\"name\": \"sRGB1+CVD\",\"cvd_type\": \"tritanomaly\",\"severity\": 100}\n",
    "\n",
    "CVD_D = cspace_converter(CVD_D_space, \"CAM02-UCS\")\n",
    "CVD_P = cspace_converter(CVD_P_space, \"CAM02-UCS\")\n",
    "CVD_T = cspace_converter(CVD_T_space, \"CAM02-UCS\")\n",
    "\n",
    "\n",
    "toCAM = cspace_converter(\"sRGB1\", \"CAM02-UCS\")\n",
    "\n",
    "\n",
    "def constrain(n):\n",
    "    return min(max(math.floor(n),0),255)\n",
    "\n",
    "toRGB_unconstrained = cspace_converter(\"CAM02-UCS\", \"sRGB1\")\n",
    "\n",
    "def toRGB(CAM_colour):\n",
    "    return list(map(constrain, toRGB_unconstrained(CAM_colour)))\n",
    "\n",
    "def grey(CAM_colour):\n",
    "    jch = cspace_convert(CAM_colour, \"CAM02-UCS\", \"JCh\")\n",
    "    jch[..., 1] = 0\n",
    "    return cspace_convert(jch, \"JCh\", \"CAM02-UCS\")\n",
    "\n",
    "\n",
    "def transformations(RGB_colour):\n",
    "    return [\n",
    "        CVD_P(RGB_colour),\n",
    "        CVD_D(RGB_colour),\n",
    "        CVD_T(RGB_colour),\n",
    "        grey(toCAM(RGB_colour))\n",
    "    ]"
   ]
  },
  {
   "cell_type": "code",
   "execution_count": 3,
   "metadata": {},
   "outputs": [],
   "source": [
    "\n",
    "def render(CAM_colour, description = ''):\n",
    "    RGB_colour = toRGB(CAM_colour)\n",
    "    floor = math.floor\n",
    "    display(widgets.ColorPicker(\n",
    "    concise=False,\n",
    "    description=description,\n",
    "    value=('#%02x%02x%02x' % (floor(RGB_colour[0]),floor(RGB_colour[1]),floor(RGB_colour[2]))),\n",
    "    disabled=True\n",
    "    ))\n",
    "    return RGB_colour"
   ]
  },
  {
   "cell_type": "code",
   "execution_count": 4,
   "metadata": {},
   "outputs": [
    {
     "data": {
      "application/vnd.jupyter.widget-view+json": {
       "model_id": "35fbe803bb1548ff89dd6df13f0669e4",
       "version_major": 2,
       "version_minor": 0
      },
      "text/plain": [
       "ColorPicker(value='#c86432', description='Original', disabled=True)"
      ]
     },
     "metadata": {},
     "output_type": "display_data"
    },
    {
     "name": "stdout",
     "output_type": "stream",
     "text": [
      "CVD simulations:\n"
     ]
    },
    {
     "data": {
      "application/vnd.jupyter.widget-view+json": {
       "model_id": "0c0d530951ff4a15b8dde528aeae7136",
       "version_major": 2,
       "version_minor": 0
      },
      "text/plain": [
       "ColorPicker(value='#80732a', description='Deuteranopia', disabled=True)"
      ]
     },
     "metadata": {},
     "output_type": "display_data"
    },
    {
     "data": {
      "application/vnd.jupyter.widget-view+json": {
       "model_id": "b73d3c05d3204b55961e1d14945094c0",
       "version_major": 2,
       "version_minor": 0
      },
      "text/plain": [
       "ColorPicker(value='#98892f', description='Protanopia', disabled=True)"
      ]
     },
     "metadata": {},
     "output_type": "display_data"
    },
    {
     "data": {
      "application/vnd.jupyter.widget-view+json": {
       "model_id": "ce55eada5d9d4ce7b94279e1dcaf8775",
       "version_major": 2,
       "version_minor": 0
      },
      "text/plain": [
       "ColorPicker(value='#da4d59', description='Tritanopia', disabled=True)"
      ]
     },
     "metadata": {},
     "output_type": "display_data"
    },
    {
     "data": {
      "application/vnd.jupyter.widget-view+json": {
       "model_id": "440c8a04387148d5bd00474cf12d1cc1",
       "version_major": 2,
       "version_minor": 0
      },
      "text/plain": [
       "ColorPicker(value='#878484', description='Greyscale', disabled=True)"
      ]
     },
     "metadata": {},
     "output_type": "display_data"
    },
    {
     "data": {
      "text/plain": [
       "[135, 132, 132]"
      ]
     },
     "execution_count": 4,
     "metadata": {},
     "output_type": "execute_result"
    }
   ],
   "source": [
    "# Demonstrate renderer and transforms:\n",
    "\n",
    "rgb = [200,100,50]\n",
    "render(toCAM(rgb), \"Original\")\n",
    "t = transformations(rgb)\n",
    "print(\"CVD simulations:\")\n",
    "render(t[0], \"Deuteranopia\")\n",
    "render(t[1], \"Protanopia\")\n",
    "render(t[2], \"Tritanopia\")\n",
    "render(t[3], \"Greyscale\")"
   ]
  },
  {
   "cell_type": "markdown",
   "metadata": {},
   "source": [
    "# Contrast\n",
    "For the sRGB colorspace, the relative luminance of a color is defined as L = 0.2126 * R + 0.7152 * G + 0.0722 * B where R, G and B are defined as: \n",
    "- if RsRGB <= 0.03928 then R = RsRGB/12.92 else R = ((RsRGB+0.055)/1.055) ^ 2.4 \n",
    "- if GsRGB <= 0.03928 then G = GsRGB/12.92 else G = ((GsRGB+0.055)/1.055) ^ 2.4 \n",
    "- if BsRGB <= 0.03928 then B = BsRGB/12.92 else B = ((BsRGB+0.055)/1.055) ^ 2.4 \n",
    "\n",
    "and RsRGB, GsRGB, and BsRGB are defined as:\n",
    "- RsRGB = R8bit/255\n",
    "- GsRGB = G8bit/255\n",
    "- BsRGB = B8bit/255"
   ]
  },
  {
   "cell_type": "code",
   "execution_count": 5,
   "metadata": {},
   "outputs": [],
   "source": [
    "def relative_luminance(CAM_colour):\n",
    "    rgb_colour = toRGB(CAM_colour)\n",
    "    RsRGB = rgb_colour[0] / 255\n",
    "    GsRGB = rgb_colour[1] / 255\n",
    "    BsRGB = rgb_colour[2] / 255\n",
    "    def shift(n):\n",
    "        if(n <= 0.03928):\n",
    "            return n / 12.92\n",
    "        else:\n",
    "            return ((n+0.055)/1.055) ** 2.4 \n",
    "    return 0.2126 * shift(RsRGB) + 0.7152 * shift(GsRGB) + 0.0722 * shift(BsRGB)\n",
    "\n",
    "def contrast(CAM_colour1,CAM_colour2):\n",
    "    proper = (relative_luminance(CAM_colour1) + 0.05) / (relative_luminance(CAM_colour2) + 0.05)\n",
    "    return max(proper, 1.0 / proper)\n",
    "\n",
    "def deltaE(CAM_colour1,CAM_colour2):\n",
    "    return cspace_deltaE(CAM_colour1, CAM_colour2, input_space='CAM02-UCS', uniform_space='CAM02-UCS')"
   ]
  },
  {
   "cell_type": "code",
   "execution_count": 6,
   "metadata": {},
   "outputs": [],
   "source": [
    "black = toCAM([0,0,0])\n",
    "white = toCAM([255,255,255])\n",
    "\n",
    "def calc_all(RGB1, RGB2):\n",
    "    c1 = toCAM(RGB1)\n",
    "    c2 = toCAM(RGB2)\n",
    "    render(c1, \"c1\")\n",
    "    render(c2, \"c2\")\n",
    "    t1 = transformations(RGB1)\n",
    "    t2 = transformations(RGB2)\n",
    "    ts = list(zip(transformations(RGB1), transformations(RGB2)))\n",
    "    print(\"Deuteranopia:\")\n",
    "    render(t1[0])\n",
    "    render(t2[0])\n",
    "    print(\"Protanopia:\")\n",
    "    render(t1[1])\n",
    "    render(t2[1])\n",
    "    print(\"Tritanopia:\")\n",
    "    render(t1[2])\n",
    "    render(t2[2])\n",
    "    print(\"Greyscale:\")\n",
    "    render(t1[3])\n",
    "    render(t2[3])\n",
    "    print(\"Lowest delta (non-greyscale:)\", min(list(map(deltaE, t1[:3], t2[:3]))))\n",
    "    print(\"Greyscale contrast:\", contrast(t1[3],t2[3]))\n",
    "    print(\"Black on top of c1 (lowest contrast:)\", min(list(map(contrast,t1,[black]*4))))\n",
    "    print(\"Black on top of c2 (lowest contrast:)\", min(list(map(contrast,t2,[black]*4))))\n",
    "    print(\"White behind c1 (lowest contrast:)\", min(list(map(contrast,t1,[white]*4))))\n",
    "    print(\"White behind c2 (lowest contrast:)\", min(list(map(contrast,t2,[white]*4))))\n"
   ]
  },
  {
   "cell_type": "code",
   "execution_count": 7,
   "metadata": {},
   "outputs": [
    {
     "name": "stdout",
     "output_type": "stream",
     "text": [
      "Pick colours c1 and c2:\n"
     ]
    },
    {
     "data": {
      "application/vnd.jupyter.widget-view+json": {
       "model_id": "31a5ab9259da4dac89ba2eab5338f061",
       "version_major": 2,
       "version_minor": 0
      },
      "text/plain": [
       "ColorPicker(value='#e8a6a6')"
      ]
     },
     "metadata": {},
     "output_type": "display_data"
    },
    {
     "data": {
      "application/vnd.jupyter.widget-view+json": {
       "model_id": "d49358c126da460585d37fc9bce19633",
       "version_major": 2,
       "version_minor": 0
      },
      "text/plain": [
       "ColorPicker(value='#d8f8d8')"
      ]
     },
     "metadata": {},
     "output_type": "display_data"
    }
   ],
   "source": [
    "input_col_1 = widgets.ColorPicker(\n",
    "    concise=False,\n",
    "    value=('#e8a6a6'),\n",
    "    disabled=False\n",
    "    )\n",
    "input_col_2 = widgets.ColorPicker(\n",
    "    concise=False,\n",
    "    value=('#d8f8d8'),\n",
    "    disabled=False\n",
    "    )\n",
    "\n",
    "print(\"Pick colours c1 and c2:\")\n",
    "display(input_col_1)\n",
    "display(input_col_2)\n",
    "\n",
    "def picker_to_rgb(p):\n",
    "    return list(map(lambda x : constrain(x * 255), Color(p.value).rgb))"
   ]
  },
  {
   "cell_type": "code",
   "execution_count": 8,
   "metadata": {},
   "outputs": [
    {
     "name": "stdout",
     "output_type": "stream",
     "text": [
      "[232, 165, 165] [216, 248, 216]\n"
     ]
    },
    {
     "data": {
      "application/vnd.jupyter.widget-view+json": {
       "model_id": "8f6617fdb6774f88b130fdb69c302a22",
       "version_major": 2,
       "version_minor": 0
      },
      "text/plain": [
       "ColorPicker(value='#e8a5a5', description='c1', disabled=True)"
      ]
     },
     "metadata": {},
     "output_type": "display_data"
    },
    {
     "data": {
      "application/vnd.jupyter.widget-view+json": {
       "model_id": "d9478d3d94c14175ab1cd18a884a1dd9",
       "version_major": 2,
       "version_minor": 0
      },
      "text/plain": [
       "ColorPicker(value='#d8f8d8', description='c2', disabled=True)"
      ]
     },
     "metadata": {},
     "output_type": "display_data"
    },
    {
     "name": "stdout",
     "output_type": "stream",
     "text": [
      "Deuteranopia:\n"
     ]
    },
    {
     "data": {
      "application/vnd.jupyter.widget-view+json": {
       "model_id": "279fa420578d4ad49fb00cf3f449bfa9",
       "version_major": 2,
       "version_minor": 0
      },
      "text/plain": [
       "ColorPicker(value='#b1aea4', disabled=True)"
      ]
     },
     "metadata": {},
     "output_type": "display_data"
    },
    {
     "data": {
      "application/vnd.jupyter.widget-view+json": {
       "model_id": "67017436bb214ffdaa715bc9221bf1de",
       "version_major": 2,
       "version_minor": 0
      },
      "text/plain": [
       "ColorPicker(value='#f9f1d6', disabled=True)"
      ]
     },
     "metadata": {},
     "output_type": "display_data"
    },
    {
     "name": "stdout",
     "output_type": "stream",
     "text": [
      "Protanopia:\n"
     ]
    },
    {
     "data": {
      "application/vnd.jupyter.widget-view+json": {
       "model_id": "b6fdebcd300f46a0b7324a785b121aa3",
       "version_major": 2,
       "version_minor": 0
      },
      "text/plain": [
       "ColorPicker(value='#c1bba3', disabled=True)"
      ]
     },
     "metadata": {},
     "output_type": "display_data"
    },
    {
     "data": {
      "application/vnd.jupyter.widget-view+json": {
       "model_id": "7bd1c4ea71464dbdaed34176c6c5d12c",
       "version_major": 2,
       "version_minor": 0
      },
      "text/plain": [
       "ColorPicker(value='#f3eed9', disabled=True)"
      ]
     },
     "metadata": {},
     "output_type": "display_data"
    },
    {
     "name": "stdout",
     "output_type": "stream",
     "text": [
      "Tritanopia:\n"
     ]
    },
    {
     "data": {
      "application/vnd.jupyter.widget-view+json": {
       "model_id": "6f46f628142d4a57877e712627207010",
       "version_major": 2,
       "version_minor": 0
      },
      "text/plain": [
       "ColorPicker(value='#f59da5', disabled=True)"
      ]
     },
     "metadata": {},
     "output_type": "display_data"
    },
    {
     "data": {
      "application/vnd.jupyter.widget-view+json": {
       "model_id": "53d12129baf94eb0a5f4363a350c824b",
       "version_major": 2,
       "version_minor": 0
      },
      "text/plain": [
       "ColorPicker(value='#d5f5ee', disabled=True)"
      ]
     },
     "metadata": {},
     "output_type": "display_data"
    },
    {
     "name": "stdout",
     "output_type": "stream",
     "text": [
      "Greyscale:\n"
     ]
    },
    {
     "data": {
      "application/vnd.jupyter.widget-view+json": {
       "model_id": "de578b8f9964449b83cf676125046e8a",
       "version_major": 2,
       "version_minor": 0
      },
      "text/plain": [
       "ColorPicker(value='#bcb8b8', disabled=True)"
      ]
     },
     "metadata": {},
     "output_type": "display_data"
    },
    {
     "data": {
      "application/vnd.jupyter.widget-view+json": {
       "model_id": "94edb6b088ea49c89c3fce92d8f6ad42",
       "version_major": 2,
       "version_minor": 0
      },
      "text/plain": [
       "ColorPicker(value='#f1ecec', disabled=True)"
      ]
     },
     "metadata": {},
     "output_type": "display_data"
    },
    {
     "name": "stdout",
     "output_type": "stream",
     "text": [
      "Lowest delta (non-greyscale:) 6.469209178621033\n",
      "Greyscale contrast: 1.6796313826031712\n",
      "Black on top of c1 (lowest contrast:) 9.459910265257026\n",
      "Black on top of c2 (lowest contrast:) 17.949561268460233\n",
      "White behind c1 (lowest contrast:) 1.9258122856079662\n",
      "White behind c2 (lowest contrast:) 1.1301822441445628\n"
     ]
    }
   ],
   "source": [
    "print(picker_to_rgb(input_col_1), picker_to_rgb(input_col_2))\n",
    "calc_all(picker_to_rgb(input_col_1), picker_to_rgb(input_col_2))"
   ]
  },
  {
   "cell_type": "markdown",
   "metadata": {},
   "source": [
    "# How to implement in LaTeX?\n",
    "\n",
    "Simply add the following two snippets of code to your preamble. The first defines the colours \"zx_red\" and \"zx_green\":\n",
    "\n",
    "<pre>\n",
    "\\definecolor{zx_red}{RGB}{227, 145, 145}\n",
    "\\definecolor{zx_green}{RGB}{230, 250, 230}\n",
    "</pre>\n",
    "\n",
    "The second defines two node types \"gn\" and \"rn\" for use inside tikz diagrams:\n",
    "\n",
    "<pre>\n",
    "\\tikzstyle{gn}=[rectangle,rounded corners=0.8em,fill=zx_green,draw=Black,line width=0.8 pt,inner sep=3pt,minimum width=1.5em,minimum height=1.5em]\n",
    "\\tikzstyle{rn}=[rectangle,rounded corners=0.8em,fill=zx_red,draw=Black,line width=0.8 pt,inner sep=3pt,minimum width=1.5em,minimum height=1.5em]\n",
    "</pre>\n",
    "\n",
    "Note that we encourage rounded rectangles over circles."
   ]
  }
 ],
 "metadata": {
  "kernelspec": {
   "display_name": "Python 3",
   "language": "python",
   "name": "python3"
  },
  "language_info": {
   "codemirror_mode": {
    "name": "ipython",
    "version": 3
   },
   "file_extension": ".py",
   "mimetype": "text/x-python",
   "name": "python",
   "nbconvert_exporter": "python",
   "pygments_lexer": "ipython3",
   "version": "3.7.2"
  }
 },
 "nbformat": 4,
 "nbformat_minor": 2
}
