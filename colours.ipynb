{
 "cells": [
  {
   "cell_type": "markdown",
   "metadata": {},
   "source": [
    "# How to implement in LaTeX?\n",
    "\n",
    "Simply add the following two snippets of code to your preamble. The first defines the colours \"zx_red\" and \"zx_green\":\n",
    "\n",
    "<pre>\n",
    "\\definecolor{zx_red}{RGB}{232, 165, 165}\n",
    "\\definecolor{zx_green}{RGB}{216, 248, 216}\n",
    "</pre>\n",
    "\n",
    "The second defines two node types \"gn\" and \"rn\" for use inside tikz diagrams:\n",
    "\n",
    "<pre>\n",
    "\\tikzstyle{gn}=[rectangle,rounded corners=0.8em,fill=zx_green,draw=Black,line width=0.8 pt,inner sep=3pt,minimum width=1.5em,minimum height=1.5em]\n",
    "\\tikzstyle{rn}=[rectangle,rounded corners=0.8em,fill=zx_red,draw=Black,line width=0.8 pt,inner sep=3pt,minimum width=1.5em,minimum height=1.5em]\n",
    "</pre>\n",
    "\n",
    "Note that we encourage rounded rectangles over circles."
   ]
  },
  {
   "cell_type": "markdown",
   "metadata": {},
   "source": [
    "# An investigation into possible colour choices that will not coincide under colour deficiency models\n",
    "\n",
    "The ZX-calculus uses red and green nodes, and the community has been resistant to change in these colour choices.\n",
    "Rather than try and change the colours of the calculus we aim to give standard shades of red and green,\n",
    "which do not clash under the following colour models:\n",
    "\n",
    "- Green-Blind/Deuteranopia\n",
    "- Red-Blind/Protanopia\n",
    "- Blue-Blind/Tritanopia\n",
    "- Monochromacy/Achromatopsia (greyscale)\n",
    "\n",
    "For the final result and instructions on how to implement these decisions in LaTeX see the bottom of this page."
   ]
  },
  {
   "cell_type": "markdown",
   "metadata": {},
   "source": [
    "## Method\n",
    "We will use the python library colorspacious (DOI:10.5281/zenodo.1214904) to perform the colour manipulation,\n",
    "and take advice on contrast from the W3 Standard (https://www.w3.org/TR/WCAG21/ .)\n",
    "Any given pair of colours will be assessed on the following criteria:\n",
    "\n",
    "- Contrast against black\n",
    "- DeltaE difference between the colours (CAM02-UCS)\n",
    "\n",
    "    \n",
    "These contrasts will be evaluated for each transformed pair of colours.\n",
    "The final candidates for the \"red\" and \"green\" will be found by starting with the web standard colours for those names,\n",
    "then altering the saturation and lightness (by hand) keeping the original hues. The W3 standard requires a contrast difference greater that 4.5, but no standard is given for DeltaE values. As such we have chosen the value 5 as our DeltaE tolerance, but note that this is arbitrary and judged \"good enough\" by eye."
   ]
  },
  {
   "cell_type": "code",
   "execution_count": 1,
   "metadata": {},
   "outputs": [],
   "source": [
    "from colorspacious import cspace_convert\n",
    "from colorspacious import cspace_converter\n",
    "from colorspacious import deltaE as cspace_deltaE\n",
    "from colour import Color\n",
    "import ipywidgets as widgets\n",
    "import math\n"
   ]
  },
  {
   "cell_type": "code",
   "execution_count": 2,
   "metadata": {},
   "outputs": [],
   "source": [
    "# Implement colour space conversions\n",
    "\n",
    "CVD_D_space = {\"name\": \"sRGB1+CVD\",\"cvd_type\": \"deuteranomaly\",\"severity\": 100}\n",
    "CVD_P_space = {\"name\": \"sRGB1+CVD\",\"cvd_type\": \"protanomaly\",\"severity\": 100}\n",
    "CVD_T_space = {\"name\": \"sRGB1+CVD\",\"cvd_type\": \"tritanomaly\",\"severity\": 100}\n",
    "\n",
    "CVD_D = cspace_converter(CVD_D_space, \"CAM02-UCS\")\n",
    "CVD_P = cspace_converter(CVD_P_space, \"CAM02-UCS\")\n",
    "CVD_T = cspace_converter(CVD_T_space, \"CAM02-UCS\")\n",
    "\n",
    "\n",
    "toCAM = cspace_converter(\"sRGB1\", \"CAM02-UCS\")\n",
    "\n",
    "\n",
    "def constrain(n):\n",
    "    return min(max(math.floor(n),0),255)\n",
    "\n",
    "toRGB_unconstrained = cspace_converter(\"CAM02-UCS\", \"sRGB1\")\n",
    "\n",
    "def toRGB(CAM_colour):\n",
    "    return list(map(constrain, toRGB_unconstrained(CAM_colour)))\n",
    "\n",
    "def grey(CAM_colour):\n",
    "    jch = cspace_convert(CAM_colour, \"CAM02-UCS\", \"JCh\")\n",
    "    jch[..., 1] = 0\n",
    "    return cspace_convert(jch, \"JCh\", \"CAM02-UCS\")\n",
    "\n",
    "\n",
    "def transformations(RGB_colour):\n",
    "    return [\n",
    "        CVD_P(RGB_colour),\n",
    "        CVD_D(RGB_colour),\n",
    "        CVD_T(RGB_colour),\n",
    "        grey(toCAM(RGB_colour))\n",
    "    ]"
   ]
  },
  {
   "cell_type": "code",
   "execution_count": 3,
   "metadata": {},
   "outputs": [],
   "source": [
    "\n",
    "def render(CAM_colour, description = ''):\n",
    "    RGB_colour = toRGB(CAM_colour)\n",
    "    floor = math.floor\n",
    "    display(widgets.ColorPicker(\n",
    "    concise=False,\n",
    "    description=description,\n",
    "    value=('#%02x%02x%02x' % (floor(RGB_colour[0]),floor(RGB_colour[1]),floor(RGB_colour[2]))),\n",
    "    disabled=True\n",
    "    ))\n",
    "    return RGB_colour"
   ]
  },
  {
   "cell_type": "code",
   "execution_count": 4,
   "metadata": {},
   "outputs": [
    {
     "data": {
      "application/vnd.jupyter.widget-view+json": {
       "model_id": "74bfeeeb50f148029855b9adc60efdb9",
       "version_major": 2,
       "version_minor": 0
      },
      "text/plain": [
       "ColorPicker(value='#c86432', description='Original', disabled=True)"
      ]
     },
     "metadata": {},
     "output_type": "display_data"
    },
    {
     "name": "stdout",
     "output_type": "stream",
     "text": [
      "CVD simulations:\n"
     ]
    },
    {
     "data": {
      "application/vnd.jupyter.widget-view+json": {
       "model_id": "bc3f21ade8814e3aaa0779eb5a0756c3",
       "version_major": 2,
       "version_minor": 0
      },
      "text/plain": [
       "ColorPicker(value='#80732a', description='Deuteranopia', disabled=True)"
      ]
     },
     "metadata": {},
     "output_type": "display_data"
    },
    {
     "data": {
      "application/vnd.jupyter.widget-view+json": {
       "model_id": "7d4fb159c06f4712a73be80aa10003ca",
       "version_major": 2,
       "version_minor": 0
      },
      "text/plain": [
       "ColorPicker(value='#98892f', description='Protanopia', disabled=True)"
      ]
     },
     "metadata": {},
     "output_type": "display_data"
    },
    {
     "data": {
      "application/vnd.jupyter.widget-view+json": {
       "model_id": "f172537a3e4b47b4ad45bb7c8a021593",
       "version_major": 2,
       "version_minor": 0
      },
      "text/plain": [
       "ColorPicker(value='#da4d59', description='Tritanopia', disabled=True)"
      ]
     },
     "metadata": {},
     "output_type": "display_data"
    },
    {
     "data": {
      "application/vnd.jupyter.widget-view+json": {
       "model_id": "8266dfdd84a1470394a40c95bd639004",
       "version_major": 2,
       "version_minor": 0
      },
      "text/plain": [
       "ColorPicker(value='#878484', description='Greyscale', disabled=True)"
      ]
     },
     "metadata": {},
     "output_type": "display_data"
    },
    {
     "data": {
      "text/plain": [
       "[135, 132, 132]"
      ]
     },
     "execution_count": 4,
     "metadata": {},
     "output_type": "execute_result"
    }
   ],
   "source": [
    "# Demonstrate renderer and transforms:\n",
    "\n",
    "rgb = [200,100,50]\n",
    "render(toCAM(rgb), \"Original\")\n",
    "t = transformations(rgb)\n",
    "print(\"CVD simulations:\")\n",
    "render(t[0], \"Deuteranopia\")\n",
    "render(t[1], \"Protanopia\")\n",
    "render(t[2], \"Tritanopia\")\n",
    "render(t[3], \"Greyscale\")"
   ]
  },
  {
   "cell_type": "markdown",
   "metadata": {},
   "source": [
    "# Contrast\n",
    "For the sRGB colorspace, the relative luminance of a color is defined as L = 0.2126 * R + 0.7152 * G + 0.0722 * B where R, G and B are defined as: \n",
    "- if RsRGB <= 0.03928 then R = RsRGB/12.92 else R = ((RsRGB+0.055)/1.055) ^ 2.4 \n",
    "- if GsRGB <= 0.03928 then G = GsRGB/12.92 else G = ((GsRGB+0.055)/1.055) ^ 2.4 \n",
    "- if BsRGB <= 0.03928 then B = BsRGB/12.92 else B = ((BsRGB+0.055)/1.055) ^ 2.4 \n",
    "\n",
    "and RsRGB, GsRGB, and BsRGB are defined as:\n",
    "- RsRGB = R8bit/255\n",
    "- GsRGB = G8bit/255\n",
    "- BsRGB = B8bit/255"
   ]
  },
  {
   "cell_type": "code",
   "execution_count": 5,
   "metadata": {},
   "outputs": [],
   "source": [
    "def relative_luminance(CAM_colour):\n",
    "    rgb_colour = toRGB(CAM_colour)\n",
    "    RsRGB = rgb_colour[0] / 255\n",
    "    GsRGB = rgb_colour[1] / 255\n",
    "    BsRGB = rgb_colour[2] / 255\n",
    "    def shift(n):\n",
    "        if(n <= 0.03928):\n",
    "            return n / 12.92\n",
    "        else:\n",
    "            return ((n+0.055)/1.055) ** 2.4 \n",
    "    return 0.2126 * shift(RsRGB) + 0.7152 * shift(GsRGB) + 0.0722 * shift(BsRGB)\n",
    "\n",
    "def contrast(CAM_colour1,CAM_colour2):\n",
    "    proper = (relative_luminance(CAM_colour1) + 0.05) / (relative_luminance(CAM_colour2) + 0.05)\n",
    "    return max(proper, 1.0 / proper)\n",
    "\n",
    "def deltaE(CAM_colour1,CAM_colour2):\n",
    "    return cspace_deltaE(CAM_colour1, CAM_colour2, input_space='CAM02-UCS', uniform_space='CAM02-UCS')"
   ]
  },
  {
   "cell_type": "code",
   "execution_count": 6,
   "metadata": {},
   "outputs": [],
   "source": [
    "black = toCAM([0,0,0])\n",
    "white = toCAM([255,255,255])\n",
    "\n",
    "def calc_all(RGB1, RGB2):\n",
    "    c1 = toCAM(RGB1)\n",
    "    c2 = toCAM(RGB2)\n",
    "    render(c1, \"c1\")\n",
    "    render(c2, \"c2\")\n",
    "    t1 = transformations(RGB1)\n",
    "    t2 = transformations(RGB2)\n",
    "    ts = list(zip(transformations(RGB1), transformations(RGB2)))\n",
    "    print(\"Deuteranopia:\")\n",
    "    render(t1[0])\n",
    "    render(t2[0])\n",
    "    print(\"Protanopia:\")\n",
    "    render(t1[1])\n",
    "    render(t2[1])\n",
    "    print(\"Tritanopia:\")\n",
    "    render(t1[2])\n",
    "    render(t2[2])\n",
    "    print(\"Greyscale:\")\n",
    "    render(t1[3])\n",
    "    render(t2[3])\n",
    "    print(\"Lowest delta (non-greyscale:)\", min(list(map(deltaE, t1[:3], t2[:3]))))\n",
    "    print(\"Greyscale contrast:\", contrast(t1[3],t2[3]))\n",
    "    print(\"Black on top of c1 (lowest contrast:)\", min(list(map(contrast,t1,[black]*4))))\n",
    "    print(\"Black on top of c2 (lowest contrast:)\", min(list(map(contrast,t2,[black]*4))))\n",
    "    print(\"White behind c1 (lowest contrast:)\", min(list(map(contrast,t1,[white]*4))))\n",
    "    print(\"White behind c2 (lowest contrast:)\", min(list(map(contrast,t2,[white]*4))))\n"
   ]
  },
  {
   "cell_type": "code",
   "execution_count": 12,
   "metadata": {},
   "outputs": [
    {
     "name": "stdout",
     "output_type": "stream",
     "text": [
      "Pick colours c1 and c2:\n"
     ]
    },
    {
     "data": {
      "application/vnd.jupyter.widget-view+json": {
       "model_id": "31bb7fd747d14c8788b4b8a24dd8aab7",
       "version_major": 2,
       "version_minor": 0
      },
      "text/plain": [
       "ColorPicker(value='#e8a6a6')"
      ]
     },
     "metadata": {},
     "output_type": "display_data"
    },
    {
     "data": {
      "application/vnd.jupyter.widget-view+json": {
       "model_id": "0a0f0085e5834acbbede6ea926863399",
       "version_major": 2,
       "version_minor": 0
      },
      "text/plain": [
       "ColorPicker(value='#d8f8d8')"
      ]
     },
     "metadata": {},
     "output_type": "display_data"
    }
   ],
   "source": [
    "input_col_1 = widgets.ColorPicker(\n",
    "    concise=False,\n",
    "    value=('#e8a6a6'),\n",
    "    disabled=False\n",
    "    )\n",
    "input_col_2 = widgets.ColorPicker(\n",
    "    concise=False,\n",
    "    value=('#d8f8d8'),\n",
    "    disabled=False\n",
    "    )\n",
    "\n",
    "print(\"Pick colours c1 and c2:\")\n",
    "display(input_col_1)\n",
    "display(input_col_2)\n",
    "\n",
    "def picker_to_rgb(p):\n",
    "    return list(map(lambda x : constrain(x * 255), Color(p.value).rgb))"
   ]
  },
  {
   "cell_type": "code",
   "execution_count": 13,
   "metadata": {},
   "outputs": [
    {
     "name": "stdout",
     "output_type": "stream",
     "text": [
      "[232, 165, 165] [216, 248, 216]\n"
     ]
    },
    {
     "data": {
      "application/vnd.jupyter.widget-view+json": {
       "model_id": "f616c12d49f445349941479cc677ae50",
       "version_major": 2,
       "version_minor": 0
      },
      "text/plain": [
       "ColorPicker(value='#e8a5a5', description='c1', disabled=True)"
      ]
     },
     "metadata": {},
     "output_type": "display_data"
    },
    {
     "data": {
      "application/vnd.jupyter.widget-view+json": {
       "model_id": "aea83e18f1a34122b412ef55456b49e6",
       "version_major": 2,
       "version_minor": 0
      },
      "text/plain": [
       "ColorPicker(value='#d8f8d8', description='c2', disabled=True)"
      ]
     },
     "metadata": {},
     "output_type": "display_data"
    },
    {
     "name": "stdout",
     "output_type": "stream",
     "text": [
      "Deuteranopia:\n"
     ]
    },
    {
     "data": {
      "application/vnd.jupyter.widget-view+json": {
       "model_id": "29b5db47806d44deaf0f8ecaaa1ae338",
       "version_major": 2,
       "version_minor": 0
      },
      "text/plain": [
       "ColorPicker(value='#b1aea4', disabled=True)"
      ]
     },
     "metadata": {},
     "output_type": "display_data"
    },
    {
     "data": {
      "application/vnd.jupyter.widget-view+json": {
       "model_id": "4dd2c4762f5049208486133f623dfd5d",
       "version_major": 2,
       "version_minor": 0
      },
      "text/plain": [
       "ColorPicker(value='#f9f1d6', disabled=True)"
      ]
     },
     "metadata": {},
     "output_type": "display_data"
    },
    {
     "name": "stdout",
     "output_type": "stream",
     "text": [
      "Protanopia:\n"
     ]
    },
    {
     "data": {
      "application/vnd.jupyter.widget-view+json": {
       "model_id": "8fef5928273e4e86982188a98649e00c",
       "version_major": 2,
       "version_minor": 0
      },
      "text/plain": [
       "ColorPicker(value='#c1bba3', disabled=True)"
      ]
     },
     "metadata": {},
     "output_type": "display_data"
    },
    {
     "data": {
      "application/vnd.jupyter.widget-view+json": {
       "model_id": "6836453bca174893ae8d4971c510be6d",
       "version_major": 2,
       "version_minor": 0
      },
      "text/plain": [
       "ColorPicker(value='#f3eed9', disabled=True)"
      ]
     },
     "metadata": {},
     "output_type": "display_data"
    },
    {
     "name": "stdout",
     "output_type": "stream",
     "text": [
      "Tritanopia:\n"
     ]
    },
    {
     "data": {
      "application/vnd.jupyter.widget-view+json": {
       "model_id": "a2661ea61abe44f983e575d0f1244331",
       "version_major": 2,
       "version_minor": 0
      },
      "text/plain": [
       "ColorPicker(value='#f59da5', disabled=True)"
      ]
     },
     "metadata": {},
     "output_type": "display_data"
    },
    {
     "data": {
      "application/vnd.jupyter.widget-view+json": {
       "model_id": "ffe406a34f04436a972d4073a7b43a84",
       "version_major": 2,
       "version_minor": 0
      },
      "text/plain": [
       "ColorPicker(value='#d5f5ee', disabled=True)"
      ]
     },
     "metadata": {},
     "output_type": "display_data"
    },
    {
     "name": "stdout",
     "output_type": "stream",
     "text": [
      "Greyscale:\n"
     ]
    },
    {
     "data": {
      "application/vnd.jupyter.widget-view+json": {
       "model_id": "540e1d32414f432894db566da397e914",
       "version_major": 2,
       "version_minor": 0
      },
      "text/plain": [
       "ColorPicker(value='#bcb8b8', disabled=True)"
      ]
     },
     "metadata": {},
     "output_type": "display_data"
    },
    {
     "data": {
      "application/vnd.jupyter.widget-view+json": {
       "model_id": "dd32e7091d704edeb1cbfbe091e58397",
       "version_major": 2,
       "version_minor": 0
      },
      "text/plain": [
       "ColorPicker(value='#f1ecec', disabled=True)"
      ]
     },
     "metadata": {},
     "output_type": "display_data"
    },
    {
     "name": "stdout",
     "output_type": "stream",
     "text": [
      "Lowest delta (non-greyscale:) 6.469209178621033\n",
      "Greyscale contrast: 1.6796313826031712\n",
      "Black on top of c1 (lowest contrast:) 9.459910265257026\n",
      "Black on top of c2 (lowest contrast:) 17.949561268460233\n",
      "White behind c1 (lowest contrast:) 1.9258122856079662\n",
      "White behind c2 (lowest contrast:) 1.1301822441445628\n"
     ]
    }
   ],
   "source": [
    "print(picker_to_rgb(input_col_1), picker_to_rgb(input_col_2))\n",
    "calc_all(picker_to_rgb(input_col_1), picker_to_rgb(input_col_2))"
   ]
  }
 ],
 "metadata": {
  "kernelspec": {
   "display_name": "Python 3",
   "language": "python",
   "name": "python3"
  },
  "language_info": {
   "codemirror_mode": {
    "name": "ipython",
    "version": 3
   },
   "file_extension": ".py",
   "mimetype": "text/x-python",
   "name": "python",
   "nbconvert_exporter": "python",
   "pygments_lexer": "ipython3",
   "version": "3.7.2"
  },
  "widgets": {
   "application/vnd.jupyter.widget-state+json": {
    "state": {
     "0545fe568141498ca60718493fa27a85": {
      "model_module": "@jupyter-widgets/controls",
      "model_module_version": "1.4.0",
      "model_name": "DescriptionStyleModel",
      "state": {
       "description_width": ""
      }
     },
     "080aa145a305484f91e4a574ff76a681": {
      "model_module": "@jupyter-widgets/controls",
      "model_module_version": "1.4.0",
      "model_name": "ColorPickerModel",
      "state": {
       "disabled": true,
       "layout": "IPY_MODEL_fa761ccc259d45d4898e926acd942505",
       "style": "IPY_MODEL_ad400da2ca664254bb0fc61083c70e6f",
       "value": "#f3eed9"
      }
     },
     "082353faa34a4c208722566bda22df3f": {
      "model_module": "@jupyter-widgets/controls",
      "model_module_version": "1.4.0",
      "model_name": "DescriptionStyleModel",
      "state": {
       "description_width": ""
      }
     },
     "15b9045a494347ecb3dc0a1e20b104b6": {
      "model_module": "@jupyter-widgets/controls",
      "model_module_version": "1.4.0",
      "model_name": "ColorPickerModel",
      "state": {
       "disabled": false,
       "layout": "IPY_MODEL_37533d0efb1640f18af193836d9ca267",
       "style": "IPY_MODEL_679a54f7b72249b1ae26aa4dcd3fa962",
       "value": "#d8f8d8"
      }
     },
     "161f3cda8d9f4e5da7836b4f2b2643a2": {
      "model_module": "@jupyter-widgets/controls",
      "model_module_version": "1.4.0",
      "model_name": "ColorPickerModel",
      "state": {
       "description": "Greyscale",
       "disabled": true,
       "layout": "IPY_MODEL_68a20d150a184c55a4fc33172784af7d",
       "style": "IPY_MODEL_67321a4b02cf4472aa7b73b5fbeba3a1",
       "value": "#878484"
      }
     },
     "179ac3f07dab47f39b98daf9f6b4da60": {
      "model_module": "@jupyter-widgets/controls",
      "model_module_version": "1.4.0",
      "model_name": "ColorPickerModel",
      "state": {
       "description": "Original",
       "disabled": true,
       "layout": "IPY_MODEL_f46ee3233b5c46309f35ef5f53a92dd5",
       "style": "IPY_MODEL_33cbc82fb01b4beeaad03ad97987eebd",
       "value": "#c86432"
      }
     },
     "21cd9ab7039744c0a95ef0183f76602a": {
      "model_module": "@jupyter-widgets/controls",
      "model_module_version": "1.4.0",
      "model_name": "DescriptionStyleModel",
      "state": {
       "description_width": ""
      }
     },
     "2944da7d764449709af1ed2b052f854e": {
      "model_module": "@jupyter-widgets/base",
      "model_module_version": "1.1.0",
      "model_name": "LayoutModel",
      "state": {}
     },
     "2eecbdff66fe4283a7bb41709c3c0e46": {
      "model_module": "@jupyter-widgets/controls",
      "model_module_version": "1.4.0",
      "model_name": "DescriptionStyleModel",
      "state": {
       "description_width": ""
      }
     },
     "30b44442b81d47b9b9ac136bb150507f": {
      "model_module": "@jupyter-widgets/controls",
      "model_module_version": "1.4.0",
      "model_name": "ColorPickerModel",
      "state": {
       "disabled": true,
       "layout": "IPY_MODEL_7117263fafff4b398e1f1b23a35ef97e",
       "style": "IPY_MODEL_e2e1ea73e9a04ef6b6da4e0913fe5545",
       "value": "#f59da5"
      }
     },
     "31ec4b18975f4d5eb616a33c82e29b0a": {
      "model_module": "@jupyter-widgets/base",
      "model_module_version": "1.1.0",
      "model_name": "LayoutModel",
      "state": {}
     },
     "32ddb6d94dea4785814c86ab1a400982": {
      "model_module": "@jupyter-widgets/controls",
      "model_module_version": "1.4.0",
      "model_name": "ColorPickerModel",
      "state": {
       "disabled": false,
       "layout": "IPY_MODEL_78f6ffbb141c426b88e10311823e0502",
       "style": "IPY_MODEL_e50a59c226aa47ff81107690d2fccc2c",
       "value": "#e8a6a6"
      }
     },
     "3350c8505216428585b26921376f3120": {
      "model_module": "@jupyter-widgets/controls",
      "model_module_version": "1.4.0",
      "model_name": "ColorPickerModel",
      "state": {
       "disabled": true,
       "layout": "IPY_MODEL_771e92a506aa4b328726a67122aa8161",
       "style": "IPY_MODEL_082353faa34a4c208722566bda22df3f",
       "value": "#f1ecec"
      }
     },
     "336234dc9750402eb40a2722fa0e4e8d": {
      "model_module": "@jupyter-widgets/controls",
      "model_module_version": "1.4.0",
      "model_name": "DescriptionStyleModel",
      "state": {
       "description_width": ""
      }
     },
     "33cbc82fb01b4beeaad03ad97987eebd": {
      "model_module": "@jupyter-widgets/controls",
      "model_module_version": "1.4.0",
      "model_name": "DescriptionStyleModel",
      "state": {
       "description_width": ""
      }
     },
     "34a53fa840fb44d9be31436b4f5b2550": {
      "model_module": "@jupyter-widgets/base",
      "model_module_version": "1.1.0",
      "model_name": "LayoutModel",
      "state": {}
     },
     "37533d0efb1640f18af193836d9ca267": {
      "model_module": "@jupyter-widgets/base",
      "model_module_version": "1.1.0",
      "model_name": "LayoutModel",
      "state": {}
     },
     "380d84564cf342938c734a4636cd354c": {
      "model_module": "@jupyter-widgets/controls",
      "model_module_version": "1.4.0",
      "model_name": "ColorPickerModel",
      "state": {
       "description": "Deuteranopia",
       "disabled": true,
       "layout": "IPY_MODEL_a7f9ab5b8078414fbd9250f9550b844a",
       "style": "IPY_MODEL_474ee5cfb60a4b7fb282e45a5a324592",
       "value": "#80732a"
      }
     },
     "3d1ee60c646a48fc92929cc43231d023": {
      "model_module": "@jupyter-widgets/controls",
      "model_module_version": "1.4.0",
      "model_name": "ColorPickerModel",
      "state": {
       "disabled": true,
       "layout": "IPY_MODEL_fc781a479efe49f2afbc77596f954abe",
       "style": "IPY_MODEL_2eecbdff66fe4283a7bb41709c3c0e46",
       "value": "#b1aea4"
      }
     },
     "474ee5cfb60a4b7fb282e45a5a324592": {
      "model_module": "@jupyter-widgets/controls",
      "model_module_version": "1.4.0",
      "model_name": "DescriptionStyleModel",
      "state": {
       "description_width": ""
      }
     },
     "5a5abd3ca2cf43cf9edcc1480e51a85a": {
      "model_module": "@jupyter-widgets/controls",
      "model_module_version": "1.4.0",
      "model_name": "ColorPickerModel",
      "state": {
       "disabled": true,
       "layout": "IPY_MODEL_755cdb7d4992465d8c1ee03f51266587",
       "style": "IPY_MODEL_0545fe568141498ca60718493fa27a85",
       "value": "#c1bba3"
      }
     },
     "67321a4b02cf4472aa7b73b5fbeba3a1": {
      "model_module": "@jupyter-widgets/controls",
      "model_module_version": "1.4.0",
      "model_name": "DescriptionStyleModel",
      "state": {
       "description_width": ""
      }
     },
     "679a54f7b72249b1ae26aa4dcd3fa962": {
      "model_module": "@jupyter-widgets/controls",
      "model_module_version": "1.4.0",
      "model_name": "DescriptionStyleModel",
      "state": {
       "description_width": ""
      }
     },
     "68a20d150a184c55a4fc33172784af7d": {
      "model_module": "@jupyter-widgets/base",
      "model_module_version": "1.1.0",
      "model_name": "LayoutModel",
      "state": {}
     },
     "6b642e773e584b66b95558964836ee5a": {
      "model_module": "@jupyter-widgets/controls",
      "model_module_version": "1.4.0",
      "model_name": "ColorPickerModel",
      "state": {
       "disabled": true,
       "layout": "IPY_MODEL_31ec4b18975f4d5eb616a33c82e29b0a",
       "style": "IPY_MODEL_7cea710455824e8693d5afdd708c31ed",
       "value": "#bcb8b8"
      }
     },
     "70d84243c335479fa019cb198964d803": {
      "model_module": "@jupyter-widgets/controls",
      "model_module_version": "1.4.0",
      "model_name": "ColorPickerModel",
      "state": {
       "description": "Protanopia",
       "disabled": true,
       "layout": "IPY_MODEL_fe66bd0c5f7b4caaa871d905c767a63b",
       "style": "IPY_MODEL_ca70cbca01af4925842392c5da01a2a6",
       "value": "#98892f"
      }
     },
     "7117263fafff4b398e1f1b23a35ef97e": {
      "model_module": "@jupyter-widgets/base",
      "model_module_version": "1.1.0",
      "model_name": "LayoutModel",
      "state": {}
     },
     "755cdb7d4992465d8c1ee03f51266587": {
      "model_module": "@jupyter-widgets/base",
      "model_module_version": "1.1.0",
      "model_name": "LayoutModel",
      "state": {}
     },
     "771e92a506aa4b328726a67122aa8161": {
      "model_module": "@jupyter-widgets/base",
      "model_module_version": "1.1.0",
      "model_name": "LayoutModel",
      "state": {}
     },
     "78f6ffbb141c426b88e10311823e0502": {
      "model_module": "@jupyter-widgets/base",
      "model_module_version": "1.1.0",
      "model_name": "LayoutModel",
      "state": {}
     },
     "7cea710455824e8693d5afdd708c31ed": {
      "model_module": "@jupyter-widgets/controls",
      "model_module_version": "1.4.0",
      "model_name": "DescriptionStyleModel",
      "state": {
       "description_width": ""
      }
     },
     "91d227aeee3746149cc07fdd904fd89d": {
      "model_module": "@jupyter-widgets/controls",
      "model_module_version": "1.4.0",
      "model_name": "DescriptionStyleModel",
      "state": {
       "description_width": ""
      }
     },
     "91e15ee5fc75489fbc9227f4f66cebf1": {
      "model_module": "@jupyter-widgets/base",
      "model_module_version": "1.1.0",
      "model_name": "LayoutModel",
      "state": {}
     },
     "979ab5dc8a044330885703a90989c60c": {
      "model_module": "@jupyter-widgets/controls",
      "model_module_version": "1.4.0",
      "model_name": "ColorPickerModel",
      "state": {
       "description": "c2",
       "disabled": true,
       "layout": "IPY_MODEL_34a53fa840fb44d9be31436b4f5b2550",
       "style": "IPY_MODEL_ce38cf3dc85047b2832f6d90561da0a3",
       "value": "#d8f8d8"
      }
     },
     "9df8a36ee52b4164967f27e37a73d01e": {
      "model_module": "@jupyter-widgets/controls",
      "model_module_version": "1.4.0",
      "model_name": "ColorPickerModel",
      "state": {
       "disabled": true,
       "layout": "IPY_MODEL_bd23093b22424da0860c8a7a24025e42",
       "style": "IPY_MODEL_21cd9ab7039744c0a95ef0183f76602a",
       "value": "#f9f1d6"
      }
     },
     "a7f9ab5b8078414fbd9250f9550b844a": {
      "model_module": "@jupyter-widgets/base",
      "model_module_version": "1.1.0",
      "model_name": "LayoutModel",
      "state": {}
     },
     "ad400da2ca664254bb0fc61083c70e6f": {
      "model_module": "@jupyter-widgets/controls",
      "model_module_version": "1.4.0",
      "model_name": "DescriptionStyleModel",
      "state": {
       "description_width": ""
      }
     },
     "af1530a63f504c63b4f0644f3aa95d92": {
      "model_module": "@jupyter-widgets/base",
      "model_module_version": "1.1.0",
      "model_name": "LayoutModel",
      "state": {}
     },
     "b9d2ece7df864f5cb4925b854bc9cae8": {
      "model_module": "@jupyter-widgets/controls",
      "model_module_version": "1.4.0",
      "model_name": "ColorPickerModel",
      "state": {
       "description": "c1",
       "disabled": true,
       "layout": "IPY_MODEL_91e15ee5fc75489fbc9227f4f66cebf1",
       "style": "IPY_MODEL_ba240eb568514d12a68b3961589ccc7a",
       "value": "#e8a5a5"
      }
     },
     "ba240eb568514d12a68b3961589ccc7a": {
      "model_module": "@jupyter-widgets/controls",
      "model_module_version": "1.4.0",
      "model_name": "DescriptionStyleModel",
      "state": {
       "description_width": ""
      }
     },
     "bd23093b22424da0860c8a7a24025e42": {
      "model_module": "@jupyter-widgets/base",
      "model_module_version": "1.1.0",
      "model_name": "LayoutModel",
      "state": {}
     },
     "bd89f66c2dc74fee959decba8e0fcfd2": {
      "model_module": "@jupyter-widgets/controls",
      "model_module_version": "1.4.0",
      "model_name": "ColorPickerModel",
      "state": {
       "disabled": true,
       "layout": "IPY_MODEL_2944da7d764449709af1ed2b052f854e",
       "style": "IPY_MODEL_91d227aeee3746149cc07fdd904fd89d",
       "value": "#d5f5ee"
      }
     },
     "be8b3ea85b994afaaf2f47ec80e419aa": {
      "model_module": "@jupyter-widgets/controls",
      "model_module_version": "1.4.0",
      "model_name": "ColorPickerModel",
      "state": {
       "description": "Tritanopia",
       "disabled": true,
       "layout": "IPY_MODEL_af1530a63f504c63b4f0644f3aa95d92",
       "style": "IPY_MODEL_336234dc9750402eb40a2722fa0e4e8d",
       "value": "#da4d59"
      }
     },
     "ca70cbca01af4925842392c5da01a2a6": {
      "model_module": "@jupyter-widgets/controls",
      "model_module_version": "1.4.0",
      "model_name": "DescriptionStyleModel",
      "state": {
       "description_width": ""
      }
     },
     "ce38cf3dc85047b2832f6d90561da0a3": {
      "model_module": "@jupyter-widgets/controls",
      "model_module_version": "1.4.0",
      "model_name": "DescriptionStyleModel",
      "state": {
       "description_width": ""
      }
     },
     "e2e1ea73e9a04ef6b6da4e0913fe5545": {
      "model_module": "@jupyter-widgets/controls",
      "model_module_version": "1.4.0",
      "model_name": "DescriptionStyleModel",
      "state": {
       "description_width": ""
      }
     },
     "e50a59c226aa47ff81107690d2fccc2c": {
      "model_module": "@jupyter-widgets/controls",
      "model_module_version": "1.4.0",
      "model_name": "DescriptionStyleModel",
      "state": {
       "description_width": ""
      }
     },
     "f46ee3233b5c46309f35ef5f53a92dd5": {
      "model_module": "@jupyter-widgets/base",
      "model_module_version": "1.1.0",
      "model_name": "LayoutModel",
      "state": {}
     },
     "fa761ccc259d45d4898e926acd942505": {
      "model_module": "@jupyter-widgets/base",
      "model_module_version": "1.1.0",
      "model_name": "LayoutModel",
      "state": {}
     },
     "fc781a479efe49f2afbc77596f954abe": {
      "model_module": "@jupyter-widgets/base",
      "model_module_version": "1.1.0",
      "model_name": "LayoutModel",
      "state": {}
     },
     "fe66bd0c5f7b4caaa871d905c767a63b": {
      "model_module": "@jupyter-widgets/base",
      "model_module_version": "1.1.0",
      "model_name": "LayoutModel",
      "state": {}
     }
    },
    "version_major": 2,
    "version_minor": 0
   }
  }
 },
 "nbformat": 4,
 "nbformat_minor": 2
}
